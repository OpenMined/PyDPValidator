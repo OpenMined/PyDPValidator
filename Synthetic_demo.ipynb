{
 "cells": [
  {
   "cell_type": "code",
   "execution_count": 1,
   "metadata": {},
   "outputs": [],
   "source": [
    "import numpy as np\n",
    "from scipy.stats import randint,rv_discrete\n",
    "import matplotlib.pyplot as plt\n",
    "from estimator import *\n",
    "from tqdm import tqdm"
   ]
  },
  {
   "cell_type": "code",
   "execution_count": 2,
   "metadata": {},
   "outputs": [],
   "source": [
    "def true_delta(supports, myrv1_pmf, myrv2_pmf, epsilon):\n",
    "    \"\"\" computes delta given the P and Q\n",
    "    \"\"\"\n",
    "    delta = 0\n",
    "    for i in range(len(supports)):\n",
    "        p1 = myrv1_pmf[i]\n",
    "        p2 = myrv2_pmf[i]\n",
    "        delta += max(p2-np.exp(epsilon)*p1,0)\n",
    "    return delta"
   ]
  },
  {
   "cell_type": "code",
   "execution_count": 3,
   "metadata": {},
   "outputs": [],
   "source": [
    "\n",
    "S = 100\n",
    "\n",
    "supports = np.arange(1,S+1,1)\n",
    "\n",
    "\n",
    "pmfs_uniform = S*[1/S]\n",
    "myuniform = rv_discrete(name='MyUniform', values=(supports, pmfs_uniform))\n",
    "\n",
    "\n",
    "alpha = -0.6\n",
    "pmfs_zipf = 1/supports**alpha /np.sum(1/supports**alpha)\n",
    "myzipf = rv_discrete(name='MyZipf', values=(supports, pmfs_zipf))\n",
    "\n",
    "\n",
    "\n",
    "\n",
    "epsilon = 0.4"
   ]
  },
  {
   "cell_type": "code",
   "execution_count": 4,
   "metadata": {},
   "outputs": [],
   "source": [
    "true_delta12 = true_delta(supports, pmfs_uniform, pmfs_zipf, epsilon = epsilon)\n"
   ]
  },
  {
   "cell_type": "code",
   "execution_count": 5,
   "metadata": {},
   "outputs": [],
   "source": [
    "def test_once(n_mean):\n",
    "    np.random.seed() \n",
    "\n",
    "    n1 = np.random.poisson(n_mean)\n",
    "    n2 = np.random.poisson(n_mean)\n",
    "    n12 = np.random.poisson(n_mean)\n",
    "    n22 = np.random.poisson(n_mean)\n",
    "\n",
    "\n",
    "    rvs1 = myuniform.rvs(size = n1)\n",
    "    count_1 = {}\n",
    "    for support in supports:\n",
    "        count_1[support] = np.count_nonzero(rvs1 == support)\n",
    "\n",
    "\n",
    "    rvs2 = myzipf.rvs(size = n2)\n",
    "    count_2 = {}\n",
    "    for support in supports:\n",
    "        count_2[support] = np.count_nonzero(rvs2 == support)\n",
    "\n",
    "\n",
    "    rvs12 = myuniform.rvs(size = n12)\n",
    "    count_12 = {}\n",
    "    for support in supports:\n",
    "        count_12[support] = np.count_nonzero(rvs12 == support)\n",
    "\n",
    "\n",
    "    rvs22 = myzipf.rvs(size = n22)\n",
    "    count_22 = {}\n",
    "    for support in supports:\n",
    "        count_22[support] = np.count_nonzero(rvs22 == support)\n",
    "    \n",
    "    for event in supports:\n",
    "        if event not in count_1.keys():\n",
    "            count_1[event] = 0\n",
    "        if event not in count_2.keys():\n",
    "            count_2[event] = 0\n",
    "        if event not in count_12.keys():\n",
    "            count_12[event] = 0\n",
    "        if event not in count_22.keys():\n",
    "            count_22[event] = 0\n",
    "        \n",
    "    delta_mle12 = mle_estimator(count_1, count_2,n1, n2, epsilon = epsilon)\n",
    "    delta_poly12 = opt_estimator(count_1,count_2,count_12,count_22,n1,n2,n12,n22, n_mean, epsilon = epsilon, c_1 = 4, c_2 = 0.1, c_3 = 1.5)\n",
    "    return [delta_mle12,delta_poly12]\n"
   ]
  },
  {
   "cell_type": "code",
   "execution_count": 6,
   "metadata": {},
   "outputs": [
    {
     "name": "stderr",
     "output_type": "stream",
     "text": [
      "100%|██████████| 100/100 [03:36<00:00,  2.18s/it]\n",
      "100%|██████████| 100/100 [08:10<00:00,  4.38s/it]\n",
      "100%|██████████| 100/100 [09:02<00:00,  4.80s/it]\n",
      "100%|██████████| 100/100 [01:03<00:00,  1.58it/s]\n",
      "100%|██████████| 100/100 [01:09<00:00,  1.54it/s]\n",
      "100%|██████████| 100/100 [01:02<00:00,  1.60it/s]\n",
      "100%|██████████| 100/100 [01:14<00:00,  1.40it/s]\n"
     ]
    }
   ],
   "source": [
    "n_list = [100, 316, 1000,3162, 10000,31622, 100000]\n",
    "r_runs = 100\n",
    "\n",
    "final_results = []\n",
    "for n in n_list:\n",
    "    results = []\n",
    "    for i in tqdm(range(r_runs)):\n",
    "        results.append(test_once(n))\n",
    "    results = np.array(results,dtype = np.float32)\n",
    "    MSE_mle12 = np.mean((results[:,0]-true_delta12)**2)\n",
    "    MSE_poly12 = np.mean((results[:,1]-true_delta12)**2)\n",
    "    std_error_mle12 = np.std((results[:,0]-true_delta12)**2)/np.sqrt(r_runs)\n",
    "    std_error_poly12 = np.std((results[:,1]-true_delta12)**2)/np.sqrt(r_runs)\n",
    "    \n",
    "    output = [MSE_mle12,MSE_poly12,std_error_mle12,std_error_poly12]\n",
    "    final_results.append(output)"
   ]
  },
  {
   "cell_type": "code",
   "execution_count": 7,
   "metadata": {},
   "outputs": [],
   "source": [
    "final_results = np.array(final_results)\n",
    "\n",
    "np.save(\"synthetic_results.npy\", final_results)"
   ]
  },
  {
   "cell_type": "code",
   "execution_count": 8,
   "metadata": {},
   "outputs": [
    {
     "data": {
      "text/plain": [
       "<matplotlib.legend.Legend at 0x1a1624bc88>"
      ]
     },
     "execution_count": 8,
     "metadata": {},
     "output_type": "execute_result"
    },
    {
     "data": {
      "image/png": "[encoded data removed]",
      "text/plain": [
       "<Figure size 432x288 with 1 Axes>"
      ]
     },
     "metadata": {
      "needs_background": "light"
     },
     "output_type": "display_data"
    }
   ],
   "source": [
    "plt.errorbar(n_list, final_results[:,0],final_results[:,2],marker='s',label=\"MLE\")\n",
    "plt.errorbar(n_list, final_results[:,1],final_results[:,3],marker = '^' ,label=\"Poly\")\n",
    "\n",
    "plt.xscale('log')\n",
    "plt.yscale('log')\n",
    "plt.ylabel(\"MSE\")\n",
    "plt.xlabel(\"sample size $n$\")\n",
    "plt.title(\"Uniform vs. Zipf(-0.6)\")\n",
    "plt.grid()\n",
    "plt.legend()"
   ]
  },
  {
   "cell_type": "code",
   "execution_count": null,
   "metadata": {},
   "outputs": [],
   "source": []
  }
 ],
 "metadata": {
  "kernelspec": {
   "display_name": "Python 3",
   "language": "python",
   "name": "python3"
  },
  "language_info": {
   "codemirror_mode": {
    "name": "ipython",
    "version": 3
   },
   "file_extension": ".py",
   "mimetype": "text/x-python",
   "name": "python",
   "nbconvert_exporter": "python",
   "pygments_lexer": "ipython3",
   "version": "3.6.8"
  },
  "latex_envs": {
   "LaTeX_envs_menu_present": true,
   "autoclose": false,
   "autocomplete": false,
   "bibliofile": "ref.bib",
   "cite_by": "apalike",
   "current_citInitial": 1,
   "eqLabelWithNumbers": true,
   "eqNumInitial": 1,
   "hotkeys": {
    "equation": "Ctrl-E",
    "itemize": "Ctrl-I"
   },
   "labels_anchors": false,
   "latex_user_defs": false,
   "report_style_numbering": true,
   "user_envs_cfg": true
  }
 },
 "nbformat": 4,
 "nbformat_minor": 2
}
