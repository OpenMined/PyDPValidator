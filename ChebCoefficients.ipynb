{
 "cells": [
  {
   "cell_type": "code",
   "execution_count": 3,
   "metadata": {},
   "outputs": [],
   "source": [
    "from sympy import chebyshevt, Poly, expand, symbols\n",
    "from sympy.polys.orthopolys import chebyshevt_poly\n",
    "import numpy as np"
   ]
  },
  {
   "cell_type": "code",
   "execution_count": 4,
   "metadata": {},
   "outputs": [],
   "source": [
    "dic_list_cheb_2z_1 = []\n",
    "for i in range(30):\n",
    "    z = symbols(\"z\")\n",
    "    dic_poly = Poly(chebyshevt_poly(i, 2 * z - 1), z).as_dict()\n",
    "    dic_list_cheb_2z_1.append(dic_poly)\n",
    "\n",
    "dic_list_cheb_z = []\n",
    "for i in range(30):\n",
    "    z = symbols(\"z\")\n",
    "    dic_poly = Poly(chebyshevt_poly(i, z), z).as_dict()\n",
    "    dic_list_cheb_z.append(dic_poly)\n",
    "    \n"
   ]
  },
  {
   "cell_type": "code",
   "execution_count": 6,
   "metadata": {},
   "outputs": [],
   "source": [
    "np.save('dic_list_cheb_2z_1.npy', dic_list_cheb_2z_1)\n",
    "np.save('dic_list_cheb_z.npy', dic_list_cheb_z)"
   ]
  },
  {
   "cell_type": "code",
   "execution_count": null,
   "metadata": {},
   "outputs": [],
   "source": []
  }
 ],
 "metadata": {
  "kernelspec": {
   "display_name": "Python 3",
   "language": "python",
   "name": "python3"
  },
  "language_info": {
   "codemirror_mode": {
    "name": "ipython",
    "version": 3
   },
   "file_extension": ".py",
   "mimetype": "text/x-python",
   "name": "python",
   "nbconvert_exporter": "python",
   "pygments_lexer": "ipython3",
   "version": "3.6.8"
  },
  "latex_envs": {
   "LaTeX_envs_menu_present": true,
   "autoclose": false,
   "autocomplete": false,
   "bibliofile": "ref.bib",
   "cite_by": "apalike",
   "current_citInitial": 1,
   "eqLabelWithNumbers": true,
   "eqNumInitial": 1,
   "hotkeys": {
    "equation": "Ctrl-E",
    "itemize": "Ctrl-I"
   },
   "labels_anchors": false,
   "latex_user_defs": false,
   "report_style_numbering": true,
   "user_envs_cfg": true
  }
 },
 "nbformat": 4,
 "nbformat_minor": 2
}
